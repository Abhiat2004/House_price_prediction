{
  "nbformat": 4,
  "nbformat_minor": 0,
  "metadata": {
    "colab": {
      "provenance": []
    },
    "kernelspec": {
      "name": "python3",
      "display_name": "Python 3"
    },
    "language_info": {
      "name": "python"
    }
  },
  "cells": [
    {
      "cell_type": "markdown",
      "source": [
        "#House price prediction"
      ],
      "metadata": {
        "id": "-JUmv3TOiA1Y"
      }
    },
    {
      "cell_type": "markdown",
      "source": [
        "##Importing libraries and datasets"
      ],
      "metadata": {
        "id": "p3pAOBIBiI3I"
      }
    },
    {
      "cell_type": "code",
      "execution_count": null,
      "metadata": {
        "id": "V-csqWtwHiW7"
      },
      "outputs": [],
      "source": [
        "import numpy as np\n",
        "import matplotlib.pyplot as plt\n",
        "import pandas as pd"
      ]
    },
    {
      "cell_type": "code",
      "source": [
        "data=pd.read_csv(\"hpdataset fin.csv\")\n",
        "x=data.iloc[:,0:15].values\n",
        "y=data.iloc[:,-1].values"
      ],
      "metadata": {
        "id": "Ej34IxlvIFny"
      },
      "execution_count": null,
      "outputs": []
    },
    {
      "cell_type": "code",
      "source": [
        "print(x)"
      ],
      "metadata": {
        "colab": {
          "base_uri": "https://localhost:8080/"
        },
        "id": "73y3q8qTky3H",
        "outputId": "3275176d-c2f2-4452-9f3b-9ef0ab769edf"
      },
      "execution_count": null,
      "outputs": [
        {
          "output_type": "stream",
          "name": "stdout",
          "text": [
            "[[201 177 3 ... 6.8 0.9 'small']\n",
            " [196 182 4 ... 4.1 1.42 'medium']\n",
            " [198 182 4 ... 2.1 4.12 'medium']\n",
            " ...\n",
            " [153 147 3 ... 4.7 3.98 'extra_large']\n",
            " [180 158 2 ... 3.4 3.75 'large']\n",
            " [695 619 8 ... 0.4 4.64 'large']]\n"
          ]
        }
      ]
    },
    {
      "cell_type": "code",
      "source": [
        "print(y)"
      ],
      "metadata": {
        "colab": {
          "base_uri": "https://localhost:8080/"
        },
        "id": "EMlwjxNtk029",
        "outputId": "020dc272-857c-4a4b-c63e-a0904e43a75e"
      },
      "execution_count": null,
      "outputs": [
        {
          "output_type": "stream",
          "name": "stdout",
          "text": [
            "[165432 187043 148658 ... 106428 107579 537980]\n"
          ]
        }
      ]
    },
    {
      "cell_type": "markdown",
      "source": [
        "##Checking null values and Printing values"
      ],
      "metadata": {
        "id": "COMEpAgKiic8"
      }
    },
    {
      "cell_type": "code",
      "source": [
        "data.isnull().sum()"
      ],
      "metadata": {
        "colab": {
          "base_uri": "https://localhost:8080/"
        },
        "id": "oa4o6a8-fyB2",
        "outputId": "b32bd0d9-d27f-436e-d8a6-3b4233b2fb38"
      },
      "execution_count": null,
      "outputs": [
        {
          "output_type": "execute_result",
          "data": {
            "text/plain": [
              "land_size_sqm                 0\n",
              "house_size_sqm                0\n",
              "no_of_rooms                   0\n",
              "no_of_bathrooms               0\n",
              "large_living_room             0\n",
              "parking_space                 0\n",
              "front_garden                  0\n",
              "swimming_pool                 0\n",
              "distance_to_school            0\n",
              "wall_fence                    0\n",
              "house_age                     0\n",
              "water_front                   0\n",
              "distance_to_supermarket_km    0\n",
              "crime_rate_index              0\n",
              "room_size                     0\n",
              "property_value                0\n",
              "dtype: int64"
            ]
          },
          "metadata": {},
          "execution_count": 46
        }
      ]
    },
    {
      "cell_type": "code",
      "source": [
        "print(data)"
      ],
      "metadata": {
        "colab": {
          "base_uri": "https://localhost:8080/"
        },
        "id": "p117fJdJfzTS",
        "outputId": "cacffd2d-3e9a-4d86-db29-38b9c3c0bac9"
      },
      "execution_count": null,
      "outputs": [
        {
          "output_type": "stream",
          "name": "stdout",
          "text": [
            "      land_size_sqm  house_size_sqm  no_of_rooms  no_of_bathrooms  \\\n",
            "0               201             177            3                1   \n",
            "1               196             182            4                3   \n",
            "2               198             182            4                4   \n",
            "3               178             166            2                3   \n",
            "4               183             165            3                1   \n",
            "...             ...             ...          ...              ...   \n",
            "4949            297             261            4                4   \n",
            "4950            302             282            4                2   \n",
            "4951            153             147            3                4   \n",
            "4952            180             158            2                1   \n",
            "4953            695             619            8                6   \n",
            "\n",
            "     large_living_room parking_space front_garden swimming_pool  \\\n",
            "0                   No           Yes          Yes            No   \n",
            "1                  Yes           Yes           No           Yes   \n",
            "2                  Yes           Yes           No           Yes   \n",
            "3                   No           Yes           No            No   \n",
            "4                  Yes           Yes           No            No   \n",
            "...                ...           ...          ...           ...   \n",
            "4949               Yes           Yes          Yes           Yes   \n",
            "4950               Yes           Yes          Yes           Yes   \n",
            "4951               Yes           Yes           No            No   \n",
            "4952                No           Yes           No           Yes   \n",
            "4953               Yes           Yes          Yes           Yes   \n",
            "\n",
            "      distance_to_school wall_fence  house_age water_front  \\\n",
            "0                    3.3        Yes         10          No   \n",
            "1                    1.2        Yes         11          No   \n",
            "2                    5.9         No         20          No   \n",
            "3                    5.9         No          5          No   \n",
            "4                    3.8        Yes          8          No   \n",
            "...                  ...        ...        ...         ...   \n",
            "4949                 2.9        Yes         20          No   \n",
            "4950                 3.8        Yes         12         Yes   \n",
            "4951                 3.3        Yes          7          No   \n",
            "4952                 2.2         No          1          No   \n",
            "4953                 0.4        Yes          5          No   \n",
            "\n",
            "      distance_to_supermarket_km  crime_rate_index    room_size  \\\n",
            "0                            6.8              0.90        small   \n",
            "1                            4.1              1.42       medium   \n",
            "2                            2.1              4.12       medium   \n",
            "3                            0.7              4.36        small   \n",
            "4                            0.7              0.42        small   \n",
            "...                          ...               ...          ...   \n",
            "4949                         4.1              3.99        large   \n",
            "4950                         4.8              2.09        large   \n",
            "4951                         4.7              3.98  extra_large   \n",
            "4952                         3.4              3.75        large   \n",
            "4953                         0.4              4.64        large   \n",
            "\n",
            "      property_value  \n",
            "0             165432  \n",
            "1             187043  \n",
            "2             148658  \n",
            "3             123785  \n",
            "4             156470  \n",
            "...              ...  \n",
            "4949          235882  \n",
            "4950          290995  \n",
            "4951          106428  \n",
            "4952          107579  \n",
            "4953          537980  \n",
            "\n",
            "[4954 rows x 16 columns]\n"
          ]
        }
      ]
    },
    {
      "cell_type": "markdown",
      "source": [
        "##Encoding the Catogorical data"
      ],
      "metadata": {
        "id": "_L7FTAWzjJxN"
      }
    },
    {
      "cell_type": "code",
      "source": [
        "from sklearn.preprocessing import LabelEncoder\n",
        "l=LabelEncoder()\n",
        "m=[4,5,6,7,9,11,14]\n",
        "for i in range(0,7):\n",
        "  x[:,m[i]]=l.fit_transform(x[:,m[i]])"
      ],
      "metadata": {
        "id": "0cxXExQmhOVO"
      },
      "execution_count": null,
      "outputs": []
    },
    {
      "cell_type": "code",
      "source": [
        "print(x)"
      ],
      "metadata": {
        "colab": {
          "base_uri": "https://localhost:8080/"
        },
        "id": "NGxhgQagk5a-",
        "outputId": "d905ae92-4b0e-43a8-e1c1-c9017d18b08d"
      },
      "execution_count": null,
      "outputs": [
        {
          "output_type": "stream",
          "name": "stdout",
          "text": [
            "[[201 177 3 ... 6.8 0.9 3]\n",
            " [196 182 4 ... 4.1 1.42 2]\n",
            " [198 182 4 ... 2.1 4.12 2]\n",
            " ...\n",
            " [153 147 3 ... 4.7 3.98 0]\n",
            " [180 158 2 ... 3.4 3.75 1]\n",
            " [695 619 8 ... 0.4 4.64 1]]\n"
          ]
        }
      ]
    },
    {
      "cell_type": "markdown",
      "source": [
        "##Splitting the test and train data"
      ],
      "metadata": {
        "id": "VDkVknXHjTSQ"
      }
    },
    {
      "cell_type": "code",
      "source": [
        "from sklearn.model_selection import train_test_split\n",
        "x_train,x_test,y_train,y_test=train_test_split(x,y,test_size=0.2,random_state=0)"
      ],
      "metadata": {
        "id": "RNJkoR3Qf15r"
      },
      "execution_count": null,
      "outputs": []
    },
    {
      "cell_type": "code",
      "source": [
        "print(x_train)"
      ],
      "metadata": {
        "colab": {
          "base_uri": "https://localhost:8080/"
        },
        "id": "iDSE-Ni9lAYJ",
        "outputId": "d6aa2350-d532-4463-d92f-31da09b8e40a"
      },
      "execution_count": null,
      "outputs": [
        {
          "output_type": "stream",
          "name": "stdout",
          "text": [
            "[[276 250 4 ... 3.4 2.58 1]\n",
            " [183 183 3 ... 6.6 4.33 1]\n",
            " [188 161 3 ... 5.5 2.55 0]\n",
            " ...\n",
            " [214 194 3 ... 3.1 5.42 2]\n",
            " [134 115 2 ... 5.5 5.88 1]\n",
            " [345 319 5 ... 4.3 3.38 2]]\n"
          ]
        }
      ]
    },
    {
      "cell_type": "code",
      "source": [
        "print(x_test)"
      ],
      "metadata": {
        "colab": {
          "base_uri": "https://localhost:8080/"
        },
        "id": "CFkmkE50lGjb",
        "outputId": "ba50fa01-5e4b-4984-ce7e-8dc0a403545c"
      },
      "execution_count": null,
      "outputs": [
        {
          "output_type": "stream",
          "name": "stdout",
          "text": [
            "[[343 322 5 ... 6.1 1.73 2]\n",
            " [216 187 4 ... 6.8 5.06 1]\n",
            " [295 272 4 ... 5.3 0.58 1]\n",
            " ...\n",
            " [260 257 4 ... 3.2 3.56 1]\n",
            " [170 162 2 ... 2.3 2.54 3]\n",
            " [270 259 4 ... 3.7 0.27 3]]\n"
          ]
        }
      ]
    },
    {
      "cell_type": "markdown",
      "source": [
        "##Feature Scaling of independent varibles"
      ],
      "metadata": {
        "id": "1DKb9d_BjY3D"
      }
    },
    {
      "cell_type": "code",
      "source": [
        "from sklearn.preprocessing import StandardScaler\n",
        "sc = StandardScaler()\n",
        "x_train = sc.fit_transform(x_train)\n",
        "x_test = sc.transform(x_test)"
      ],
      "metadata": {
        "id": "EkTWKNUEf-T8"
      },
      "execution_count": null,
      "outputs": []
    },
    {
      "cell_type": "code",
      "source": [
        "print(x_train)"
      ],
      "metadata": {
        "colab": {
          "base_uri": "https://localhost:8080/"
        },
        "id": "ylXxIcDalNJC",
        "outputId": "62ab5521-ab8e-450d-d975-1adae79817d8"
      },
      "execution_count": null,
      "outputs": [
        {
          "output_type": "stream",
          "name": "stdout",
          "text": [
            "[[ 0.25  0.2   0.14 ... -0.05 -0.25 -0.27]\n",
            " [-0.65 -0.51 -0.5  ...  1.56  0.76 -0.27]\n",
            " [-0.6  -0.74 -0.5  ...  1.01 -0.27 -1.34]\n",
            " ...\n",
            " [-0.35 -0.39 -0.5  ... -0.2   1.4   0.79]\n",
            " [-1.13 -1.23 -1.13 ...  1.01  1.66 -0.27]\n",
            " [ 0.92  0.93  0.77 ...  0.4   0.21  0.79]]\n"
          ]
        }
      ]
    },
    {
      "cell_type": "markdown",
      "source": [
        "##Training linear regression model and Predicting price"
      ],
      "metadata": {
        "id": "128kE5LsjwJy"
      }
    },
    {
      "cell_type": "code",
      "source": [
        "from sklearn.linear_model import LinearRegression\n",
        "model=LinearRegression()\n",
        "model.fit(x_train,y_train)"
      ],
      "metadata": {
        "colab": {
          "base_uri": "https://localhost:8080/",
          "height": 74
        },
        "id": "YZEalI8IgAq7",
        "outputId": "9f0dc341-2c48-47e3-cf13-6a58c3d1b254"
      },
      "execution_count": null,
      "outputs": [
        {
          "output_type": "execute_result",
          "data": {
            "text/plain": [
              "LinearRegression()"
            ],
            "text/html": [
              "<style>#sk-container-id-3 {color: black;background-color: white;}#sk-container-id-3 pre{padding: 0;}#sk-container-id-3 div.sk-toggleable {background-color: white;}#sk-container-id-3 label.sk-toggleable__label {cursor: pointer;display: block;width: 100%;margin-bottom: 0;padding: 0.3em;box-sizing: border-box;text-align: center;}#sk-container-id-3 label.sk-toggleable__label-arrow:before {content: \"▸\";float: left;margin-right: 0.25em;color: #696969;}#sk-container-id-3 label.sk-toggleable__label-arrow:hover:before {color: black;}#sk-container-id-3 div.sk-estimator:hover label.sk-toggleable__label-arrow:before {color: black;}#sk-container-id-3 div.sk-toggleable__content {max-height: 0;max-width: 0;overflow: hidden;text-align: left;background-color: #f0f8ff;}#sk-container-id-3 div.sk-toggleable__content pre {margin: 0.2em;color: black;border-radius: 0.25em;background-color: #f0f8ff;}#sk-container-id-3 input.sk-toggleable__control:checked~div.sk-toggleable__content {max-height: 200px;max-width: 100%;overflow: auto;}#sk-container-id-3 input.sk-toggleable__control:checked~label.sk-toggleable__label-arrow:before {content: \"▾\";}#sk-container-id-3 div.sk-estimator input.sk-toggleable__control:checked~label.sk-toggleable__label {background-color: #d4ebff;}#sk-container-id-3 div.sk-label input.sk-toggleable__control:checked~label.sk-toggleable__label {background-color: #d4ebff;}#sk-container-id-3 input.sk-hidden--visually {border: 0;clip: rect(1px 1px 1px 1px);clip: rect(1px, 1px, 1px, 1px);height: 1px;margin: -1px;overflow: hidden;padding: 0;position: absolute;width: 1px;}#sk-container-id-3 div.sk-estimator {font-family: monospace;background-color: #f0f8ff;border: 1px dotted black;border-radius: 0.25em;box-sizing: border-box;margin-bottom: 0.5em;}#sk-container-id-3 div.sk-estimator:hover {background-color: #d4ebff;}#sk-container-id-3 div.sk-parallel-item::after {content: \"\";width: 100%;border-bottom: 1px solid gray;flex-grow: 1;}#sk-container-id-3 div.sk-label:hover label.sk-toggleable__label {background-color: #d4ebff;}#sk-container-id-3 div.sk-serial::before {content: \"\";position: absolute;border-left: 1px solid gray;box-sizing: border-box;top: 0;bottom: 0;left: 50%;z-index: 0;}#sk-container-id-3 div.sk-serial {display: flex;flex-direction: column;align-items: center;background-color: white;padding-right: 0.2em;padding-left: 0.2em;position: relative;}#sk-container-id-3 div.sk-item {position: relative;z-index: 1;}#sk-container-id-3 div.sk-parallel {display: flex;align-items: stretch;justify-content: center;background-color: white;position: relative;}#sk-container-id-3 div.sk-item::before, #sk-container-id-3 div.sk-parallel-item::before {content: \"\";position: absolute;border-left: 1px solid gray;box-sizing: border-box;top: 0;bottom: 0;left: 50%;z-index: -1;}#sk-container-id-3 div.sk-parallel-item {display: flex;flex-direction: column;z-index: 1;position: relative;background-color: white;}#sk-container-id-3 div.sk-parallel-item:first-child::after {align-self: flex-end;width: 50%;}#sk-container-id-3 div.sk-parallel-item:last-child::after {align-self: flex-start;width: 50%;}#sk-container-id-3 div.sk-parallel-item:only-child::after {width: 0;}#sk-container-id-3 div.sk-dashed-wrapped {border: 1px dashed gray;margin: 0 0.4em 0.5em 0.4em;box-sizing: border-box;padding-bottom: 0.4em;background-color: white;}#sk-container-id-3 div.sk-label label {font-family: monospace;font-weight: bold;display: inline-block;line-height: 1.2em;}#sk-container-id-3 div.sk-label-container {text-align: center;}#sk-container-id-3 div.sk-container {/* jupyter's `normalize.less` sets `[hidden] { display: none; }` but bootstrap.min.css set `[hidden] { display: none !important; }` so we also need the `!important` here to be able to override the default hidden behavior on the sphinx rendered scikit-learn.org. See: https://github.com/scikit-learn/scikit-learn/issues/21755 */display: inline-block !important;position: relative;}#sk-container-id-3 div.sk-text-repr-fallback {display: none;}</style><div id=\"sk-container-id-3\" class=\"sk-top-container\"><div class=\"sk-text-repr-fallback\"><pre>LinearRegression()</pre><b>In a Jupyter environment, please rerun this cell to show the HTML representation or trust the notebook. <br />On GitHub, the HTML representation is unable to render, please try loading this page with nbviewer.org.</b></div><div class=\"sk-container\" hidden><div class=\"sk-item\"><div class=\"sk-estimator sk-toggleable\"><input class=\"sk-toggleable__control sk-hidden--visually\" id=\"sk-estimator-id-3\" type=\"checkbox\" checked><label for=\"sk-estimator-id-3\" class=\"sk-toggleable__label sk-toggleable__label-arrow\">LinearRegression</label><div class=\"sk-toggleable__content\"><pre>LinearRegression()</pre></div></div></div></div></div>"
            ]
          },
          "metadata": {},
          "execution_count": 55
        }
      ]
    },
    {
      "cell_type": "code",
      "source": [
        "pred=model.predict(x_test)\n",
        "print(pred)"
      ],
      "metadata": {
        "colab": {
          "base_uri": "https://localhost:8080/"
        },
        "id": "me64rfKSgGk_",
        "outputId": "f7ac542d-ee33-483e-be5c-e805b1ef9e1c"
      },
      "execution_count": null,
      "outputs": [
        {
          "output_type": "stream",
          "name": "stdout",
          "text": [
            "[262673.5  187498.12 266602.56 329747.28 142847.03  86428.87 166486.12\n",
            " 256415.81 207589.78 233566.37 138582.74 209330.   230203.2  389342.66\n",
            " 220180.18 202134.27 224601.27 281716.65 205964.68 156378.17 275317.72\n",
            " 263105.53  80353.21  90936.96 322611.07 236989.18 220988.73 127550.25\n",
            " 162241.65 132351.54 296326.81 375411.11 280092.39 474661.14 153474.\n",
            " 335723.26 340764.84 107453.51 241184.   177482.66 183245.01 260164.14\n",
            " 243047.23 246594.22 173729.06 295602.4  246534.02 101904.41 180198.17\n",
            " 232798.47  69738.89 120896.78 149647.72 284196.14 113358.97 258432.55\n",
            " 255587.35 118598.37 209832.6  224100.52 169103.58 156343.64 232560.36\n",
            " 113772.51  95541.17 179912.8  292773.82 216129.47 172589.66 211995.8\n",
            " 172341.97 127768.82 201920.01 414948.35 107280.37 128957.58 210160.75\n",
            " 223016.82 262903.61  77925.95 226816.51  45467.81 164092.27 137830.27\n",
            " 140700.47 267431.48 233169.81 301035.83 189163.78  79746.88 111208.11\n",
            " 105996.02 246141.56 290775.07 225810.05 227581.66 264013.06 193684.36\n",
            " 251217.43 198524.99 274999.58 212112.7  228237.76 239294.61 169632.92\n",
            " 171814.27 294375.51 242572.42 168361.1  364083.45 226978.3  181820.86\n",
            " 286048.28 481196.9  186886.65 194786.13 266261.68 249399.72 208304.91\n",
            " 155676.68 250047.64 289236.09 122656.55 227747.31 157438.44 240113.11\n",
            " 276743.14 182999.76 203314.08 145052.3  234202.22 251326.74  76646.49\n",
            " 223144.13 426505.08 165839.43 215528.21 260500.79 237424.97 142143.53\n",
            " 590790.9  107279.7   96671.51 121027.01 269096.52 186886.55 147454.88\n",
            " 260383.08 238811.24 148130.53 166815.12 203423.35 184748.31 166495.1\n",
            " 106469.67 101760.83 293584.96 361867.32 515571.16 309344.38 197000.4\n",
            " 347409.22 218763.8   76717.89 214031.45 219587.74 246712.34 115097.46\n",
            " 283107.35 411265.51 132885.48 241073.96 138248.2  197938.08 183695.51\n",
            " 146170.68 215580.42 195425.3  215373.8  265854.65 327875.44  71946.47\n",
            " 133278.75 206095.09 172945.2   77391.77 308844.97 213913.94 143127.95\n",
            " 268606.97 218765.79 256271.1  272935.89 261495.47 214834.11 326497.91\n",
            "  93664.81 204116.   241915.56 167212.6  295356.92 237180.09 176332.18\n",
            " 217188.27 226334.21 174494.16 121788.8  217189.31 211561.81 206066.5\n",
            " 175040.83 199550.35 140252.26  64865.71 137035.01 165157.66 247209.41\n",
            " 200902.19 121912.7  175845.26 270998.88 118485.91 141298.34 231543.86\n",
            " 211983.22 148457.28 151646.73 164364.63  96059.82  77346.81 220836.8\n",
            " 249230.46 221488.    96232.14 195052.91 200837.83  85588.16 216394.74\n",
            " 383523.29 216812.04 270605.67 159849.93 182154.84 120764.59 251201.65\n",
            "  86688.98 180575.82 228503.2  215644.82  84935.78 126663.85 225593.05\n",
            " 210306.67 116588.56 171083.06 176524.35 222035.18 161290.3  232894.41\n",
            " 224278.68 216201.37 158537.38 282170.54 273275.57 369036.68 213382.94\n",
            " 250746.21 199968.73 245233.98 100105.15 199242.35 304261.52 241202.97\n",
            " 363019.48 279931.12 256207.06 132396.47  91166.67 270867.58 125887.14\n",
            "  62932.59 137051.59 121912.91 181725.99 251853.89 162983.1   91302.85\n",
            " 214224.73 116732.33 180858.11 264565.13 189355.65 252890.63 234354.21\n",
            " 124686.77 243679.24  80779.77  76017.28 109200.03 164206.26 166328.28\n",
            " 217500.96 159870.07 447298.53 281465.02 235948.83 159705.06 175651.7\n",
            " 329112.05 210664.98 215195.2  101499.16 272392.63 126726.53  64804.79\n",
            " 199468.91 230863.92 148229.69 190884.12 223645.17 118035.57 164694.52\n",
            "  83809.13 225314.26 141843.56 257403.59 193099.21 186130.57 226546.97\n",
            " 226961.    74549.36 101389.08 176253.17 250693.06 236318.42 171299.93\n",
            " 225042.54  86734.2  230868.15  90344.7  219877.11 100087.08 152054.01\n",
            " 276264.64 186140.81 124832.2  242202.78 201273.89 120869.95 212323.23\n",
            " 176076.65  82328.54 241518.02  97924.9   85334.41 131332.47 445120.77\n",
            " 217548.05 195174.96 108375.31 247805.07 465647.19 111000.9  255073.93\n",
            " 184888.98 229266.51 200913.07 224026.26 219890.92 211948.84 214714.89\n",
            " 552613.36 231399.66 327721.31 241183.68 140559.74  85314.21 175679.84\n",
            " 172127.63 104263.3  185130.08 161175.76  67909.42 272587.49 225467.82\n",
            " 258871.29  83022.9  197163.29 400862.   177257.5   89779.5  116037.36\n",
            " 154418.59 208884.43 265151.3  142849.49 208161.76 218081.11 100152.23\n",
            " 202971.85 258822.19  83531.4  206194.79 149763.94 203797.93 239935.05\n",
            " 475572.61 304291.33 315299.81 250443.87 169756.54 121264.13 170616.01\n",
            "  95983.38 163688.99 166699.36  94135.71 268013.48 149539.03 141496.68\n",
            " 447729.26 222496.09 374671.26 289803.35 228151.23 333773.23 181076.22\n",
            " 138997.37 198325.95 126086.47 124279.6  203841.75  87285.1  232404.95\n",
            " 409901.33  79808.24 349659.28 111237.33 268659.31 281790.97 149722.81\n",
            " 194385.72 213494.19 272243.93 189477.39 184288.83 272890.07 133767.01\n",
            " 140436.36 166874.57 178455.24 291255.9  214699.8  193442.8  130805.13\n",
            " 135002.3  410960.55 404570.5   60868.    72965.09 269235.27 192264.63\n",
            " 239871.48 162262.97 160348.75 111855.   474538.15 236992.16 208627.28\n",
            " 158909.03 352572.64 265341.29 180701.79 323160.84 273624.53 137749.11\n",
            " 163640.08 259174.02  87042.31 248944.15 300785.01 454058.14 237929.12\n",
            " 203273.96 153000.52  89838.39 312717.45 147973.34 133886.56 311249.05\n",
            " 135210.72 172683.26 212029.41 146230.24 173382.02 211772.7  119567.34\n",
            " 256662.86 213894.36  96985.01 212223.03 215513.03 244891.99 205865.97\n",
            " 108636.48 154595.49 224325.56 276037.64 167799.83 110603.34 238465.17\n",
            " 157610.85 135487.71 211083.37 115800.11 342422.47 115658.79 124422.71\n",
            " 235513.89  92437.98 253529.2  313278.23 236493.57 164855.21 268447.31\n",
            " 218646.2  281366.72 291037.25 119958.8  267946.92 187110.68 207773.\n",
            " 201279.31 106784.14  62090.16 203619.39 309891.72 251811.01 401652.25\n",
            "  52309.09  82985.29 198027.09 329703.4  195141.44 370320.44 511318.92\n",
            " 231950.03 239811.17 211298.51 291736.37 237931.12 199561.41 348397.48\n",
            " 161878.52 174706.08  78384.09 264009.91 170319.76 279302.87 162059.46\n",
            " 156363.87 278626.21 107346.92 378283.95 272784.36  93785.2   87224.17\n",
            " 202468.06 199896.17 233065.3  186227.12 127545.64 209154.67 167645.31\n",
            " 106996.27 230339.69 118939.9  241678.02 202620.12  99229.05 177054.84\n",
            " 209432.46 446804.41 258834.93 187854.89 110774.74 208656.71  52018.72\n",
            " 239005.89 185965.11  93630.   234413.39 167268.7  149964.54 191767.31\n",
            " 336697.29 258826.19 214936.81 286326.39 175660.97 268441.85 442347.92\n",
            " 210185.71 285600.69 203372.31 117597.12 447788.35 229318.93 151138.49\n",
            "  96006.56 200904.53  70041.84 130040.18  73849.85 165017.96 267325.29\n",
            " 128359.74 374914.02 254622.2   80642.01 109057.47  74122.9  207152.68\n",
            " 246862.97 176497.61  69787.07  79419.48 167698.09 208155.87 154887.75\n",
            " 248273.75  73994.94 149903.2  195760.09 266509.24 131286.02 165395.17\n",
            " 348599.45 390079.04 263717.65 225770.51 237941.12 274056.76 179888.49\n",
            " 195054.83 245083.73 266228.99 234340.14 244513.64 100137.95 223016.7\n",
            "  71891.23 182447.07 181428.54 396283.4  183387.99 423767.27 299483.57\n",
            " 219724.15 202133.79 419076.87 162518.53 155644.29 255513.5  221516.94\n",
            " 130812.1  187942.17  76726.16 120644.17 120710.47 251796.95 307585.94\n",
            " 244006.29 204954.58  79537.85 246607.52 100985.98 261118.47 233991.11\n",
            " 123555.83 135494.44 141226.96 261513.65 186646.52 150254.66 431691.51\n",
            " 225853.09 131600.57  72492.67 185829.23 222199.72 262435.37 244450.5\n",
            " 165904.51 273431.05 186494.36 350485.7  236277.98 234223.34 386172.05\n",
            "  88780.27 218715.05 128813.08 196005.   212182.45 250511.82 289911.76\n",
            " 158126.49 255401.08 252513.17 209524.25 144249.99 100262.86 194166.53\n",
            " 177322.44 360112.18 190820.02  73372.71 180775.38 222036.98 190883.5\n",
            " 229527.99 226147.56 191291.55 282946.99 121284.02 268606.37 278298.67\n",
            "  90073.49 120099.74  93775.   137182.72 154150.51 202635.39  92589.5\n",
            " 113175.67 206547.75 113811.91 223490.2   88628.42 167569.16 147932.08\n",
            " 232305.56 375391.08 171813.69 415712.33 141224.8  171039.52 199724.75\n",
            " 252247.34 279131.86  56327.51  84220.41 160311.39 131267.75 208272.65\n",
            " 198970.51 119076.36 110931.52 285838.83 359176.01 207943.22 227528.87\n",
            " 124093.46 526217.72 151685.01 288963.88  86869.45  80105.49 295275.97\n",
            " 403192.8   90086.45 128746.76 166229.22 268277.97 179229.4  268330.24\n",
            " 199005.29 111432.38 136374.88 639113.32 273615.04  84759.42 108802.9\n",
            " 249042.59 488271.01 229074.98 139103.19 118097.97 147022.52 100697.1\n",
            " 227324.5  205221.09 239586.98  82190.1  216203.69 290200.49 128083.32\n",
            " 114981.98 194960.77 118206.05 150474.11 187090.86 163598.48 129532.22\n",
            " 110018.39 116455.64 218898.84 139446.61 250824.98 210880.41 444627.11\n",
            " 100130.19 110571.04 106354.11 319172.3  141393.35 191638.52 115208.3\n",
            " 153305.12 128846.71 183003.03 117777.08  59638.29  67398.1  265709.59\n",
            " 258119.47 190222.82 105550.54 234705.84  87807.96 140850.11 242476.89\n",
            " 172572.81 293722.67 104780.26 238469.84 295678.7  218555.82 288707.43\n",
            " 154956.13 209511.67 363492.14 360079.03 205441.74  86498.15 238218.4\n",
            "  91432.52 470418.36  85136.27 249760.61 304918.05 100505.64 215767.25\n",
            " 368800.45 244999.62 144886.86 146103.01 202451.02 228943.08 322825.31\n",
            "  99995.45 131420.51 109259.88 155820.52 248709.71 102474.05 191554.\n",
            " 234156.74 210862.32 254520.43 179034.68  68858.56 371290.58 209070.99\n",
            "  85571.6  102450.22  89759.32 105591.21 145755.69 242604.74  86581.\n",
            " 381711.47 241442.01 242143.88 176022.14 215659.82 608033.39 186012.41\n",
            " 145697.86 218244.63 156857.11 209371.83 206734.23 114792.26 240147.18\n",
            "  89402.29 123657.6  194510.77 511753.08 249068.74 172633.72 247087.59\n",
            " 135653.   256699.07 333727.49 139665.62 228593.84 218902.8  108416.15\n",
            "  77316.77 254256.8   92723.01  85929.4   76024.16 219553.77 343669.28\n",
            " 230132.93  85800.84 209666.74 141596.59 264384.61 154893.88 177104.67\n",
            " 163900.18 183482.89 227921.29 247700.19 198458.5  555504.8  417213.49\n",
            " 224265.89 147260.6  502935.93 250732.34 170600.22 162431.6  407791.76\n",
            " 429908.91 185362.95 190442.2  211583.43 157527.36 373666.29 204388.89\n",
            " 202273.94 184935.26 150612.41 156158.2   91225.99  87773.42 118131.54\n",
            "  79121.91  94240.37  81472.05 209307.44  88992.86 207124.1  215228.92\n",
            " 191666.64 169218.3  180667.21  92314.45 151572.4  336572.79  71713.15\n",
            " 133556.68 174595.63  89122.85 233363.91 138578.99 249679.44 141131.65\n",
            " 242766.1  120383.21 208246.94 256657.92 215324.6   71586.22  86027.79\n",
            "  60445.39 174094.15 201410.78  61057.41 188889.47 289362.92 106194.74\n",
            " 225021.97 189446.32 132992.2  251944.79]\n"
          ]
        }
      ]
    },
    {
      "cell_type": "code",
      "source": [
        "np.set_printoptions(precision=2)\n",
        "print(np.concatenate((pred.reshape(len(pred),1),y_test.reshape(len(y_test),1)),1))"
      ],
      "metadata": {
        "colab": {
          "base_uri": "https://localhost:8080/"
        },
        "id": "V-_w65BUgON9",
        "outputId": "d6dea392-1d97-409e-f714-97d57124ba3a"
      },
      "execution_count": null,
      "outputs": [
        {
          "output_type": "stream",
          "name": "stdout",
          "text": [
            "[[262673.5  253516.  ]\n",
            " [187498.12 197211.  ]\n",
            " [266602.56 279870.  ]\n",
            " ...\n",
            " [189446.32 189921.  ]\n",
            " [132992.2  131699.  ]\n",
            " [251944.79 236517.  ]]\n"
          ]
        }
      ]
    },
    {
      "cell_type": "markdown",
      "source": [
        "##Perfomance evaluation"
      ],
      "metadata": {
        "id": "BKYpXBjBj5W0"
      }
    },
    {
      "cell_type": "code",
      "source": [
        "from sklearn.metrics import r2_score\n",
        "r2_score(y_test, pred)"
      ],
      "metadata": {
        "colab": {
          "base_uri": "https://localhost:8080/"
        },
        "id": "s69DNJIagOuz",
        "outputId": "98815d7a-1c4a-486b-e9ac-78e2635d9e1e"
      },
      "execution_count": null,
      "outputs": [
        {
          "output_type": "execute_result",
          "data": {
            "text/plain": [
              "0.9879397579611933"
            ]
          },
          "metadata": {},
          "execution_count": 58
        }
      ]
    }
  ]
}